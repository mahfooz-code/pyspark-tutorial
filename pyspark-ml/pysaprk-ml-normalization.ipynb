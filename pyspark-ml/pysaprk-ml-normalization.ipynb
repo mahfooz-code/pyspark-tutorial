{
 "cells": [
  {
   "cell_type": "markdown",
   "metadata": {},
   "source": [
    "# Normalization\n",
    "\n",
    "Normalization is a scaling technique often applied as part of data preparation for machine learning.\n",
    "\n",
    "The goal of normalization is to change the values of numeric columns in the dataset to use a common scale, without distorting differences in the ranges of values or losing information.\n",
    "\n",
    "Normalization scales each numeric input variable separately to the range [0.00 .. 1.00], which is the range for floating-point values where we have the most precision. \n",
    "\n",
    "Therefore, Normalization of features is a scaling technique in which values are shifted and rescaled so that they end up ranging between 0.00 and 1.00.\n",
    "\n",
    "This technique is also known as Min-Max scaling.\n",
    "\n",
    "Normalization is good to use when you know that the distribution of your data does not follow a Gaussian distribution.\n"
   ]
  },
  {
   "cell_type": "code",
   "execution_count": 1,
   "metadata": {},
   "outputs": [],
   "source": [
    "from pyspark.sql import SparkSession\n",
    "\n",
    "spark=SparkSession.builder.appName(\"pyspark-ml-normalization\").getOrCreate()"
   ]
  },
  {
   "cell_type": "markdown",
   "metadata": {},
   "source": [
    "# Formula for normalization\n",
    "$$ {\\over X_i} = \\frac {X_i - X_{min}} {X_{max} - X_{min}} $$"
   ]
  },
  {
   "cell_type": "code",
   "execution_count": 2,
   "metadata": {},
   "outputs": [],
   "source": [
    "df = spark.createDataFrame([ (100, 77560, 45),\n",
    "                             (200, 41560, 23),\n",
    "                             (300, 30285, 20),\n",
    "                             (400, 10345, 6),\n",
    "                             (500, 88000, 50)\n",
    "                           ], [\"user_id\", \"revenue\",\"num_of_days\"])"
   ]
  },
  {
   "cell_type": "code",
   "execution_count": 3,
   "metadata": {},
   "outputs": [
    {
     "name": "stdout",
     "output_type": "stream",
     "text": [
      "Before Scaling :\n",
      "+-------+-------+-----------+\n",
      "|user_id|revenue|num_of_days|\n",
      "+-------+-------+-----------+\n",
      "|    100|  77560|         45|\n",
      "|    200|  41560|         23|\n",
      "|    300|  30285|         20|\n",
      "|    400|  10345|          6|\n",
      "|    500|  88000|         50|\n",
      "+-------+-------+-----------+\n",
      "\n"
     ]
    }
   ],
   "source": [
    "print(\"Before Scaling :\")\n",
    "df.show(5)"
   ]
  },
  {
   "cell_type": "code",
   "execution_count": 4,
   "metadata": {},
   "outputs": [],
   "source": [
    "from pyspark.ml.feature import MinMaxScaler\n",
    "from pyspark.ml.feature import VectorAssembler\n",
    "from pyspark.ml import Pipeline\n",
    "from pyspark.sql.functions import udf\n",
    "from pyspark.sql.types import DoubleType"
   ]
  },
  {
   "cell_type": "code",
   "execution_count": 5,
   "metadata": {},
   "outputs": [
    {
     "name": "stdout",
     "output_type": "stream",
     "text": [
      "After Scaling :\n",
      "+-------+-------+-----------+--------------+------------------+\n",
      "|user_id|revenue|num_of_days|revenue_Scaled|num_of_days_Scaled|\n",
      "+-------+-------+-----------+--------------+------------------+\n",
      "|    100|  77560|         45|         0.866|             0.886|\n",
      "|    200|  41560|         23|         0.402|             0.386|\n",
      "|    300|  30285|         20|         0.257|             0.318|\n",
      "|    400|  10345|          6|           0.0|               0.0|\n",
      "|    500|  88000|         50|           1.0|               1.0|\n",
      "+-------+-------+-----------+--------------+------------------+\n",
      "\n"
     ]
    }
   ],
   "source": [
    "# UDF for converting column type from vector to double type\n",
    "unlist = udf(lambda x: round(float(list(x)[0]),3), DoubleType())\n",
    "\n",
    "# Iterating over columns to be scaled\n",
    "for i in [\"revenue\",\"num_of_days\"]:\n",
    "    # VectorAssembler Transformation - Converting column to vector type\n",
    "    assembler = VectorAssembler(inputCols=[i],outputCol=i+\"_Vect\")\n",
    "\n",
    "    # MinMaxScaler Transformation\n",
    "    scaler = MinMaxScaler(inputCol=i+\"_Vect\", outputCol=i+\"_Scaled\")\n",
    "\n",
    "    # Pipeline of VectorAssembler and MinMaxScaler\n",
    "    pipeline = Pipeline(stages=[assembler, scaler])\n",
    "\n",
    "    # Fitting pipeline on dataframe\n",
    "    df = pipeline.fit(df).transform(df).withColumn(i+\"_Scaled\", unlist(i+\"_Scaled\")).drop(i+\"_Vect\")\n",
    "\n",
    "print(\"After Scaling :\")\n",
    "df.show(5)"
   ]
  }
 ],
 "metadata": {
  "interpreter": {
   "hash": "9545096d6a52d4b34adce3167e4787f469b0299861bb959c27dd86fc7feca162"
  },
  "kernelspec": {
   "display_name": "Python 3.9.7 64-bit ('pyspark': conda)",
   "language": "python",
   "name": "python3"
  },
  "language_info": {
   "codemirror_mode": {
    "name": "ipython",
    "version": 3
   },
   "file_extension": ".py",
   "mimetype": "text/x-python",
   "name": "python",
   "nbconvert_exporter": "python",
   "pygments_lexer": "ipython3",
   "version": "3.9.7"
  },
  "orig_nbformat": 4
 },
 "nbformat": 4,
 "nbformat_minor": 2
}
