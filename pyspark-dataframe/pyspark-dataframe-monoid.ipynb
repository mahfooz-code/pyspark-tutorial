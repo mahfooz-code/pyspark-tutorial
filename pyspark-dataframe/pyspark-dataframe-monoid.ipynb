{
 "cells": [
  {
   "cell_type": "markdown",
   "metadata": {},
   "source": [
    "# Monoid\n",
    "\n",
    "M = (T, f, Zero) is a monoid, where\n",
    "\n",
    "T is a data type\n",
    "\n",
    "f() is a binary operation: f: (T, T) -> T\n",
    "\n",
    "Zero: T (an instance of T)\n",
    "\n",
    "The Zero is an identity (neutral) element of type T and does not necessarily mean number zero. With the properties specified below, the triple (T, f, Zero) is called a monoid. Here are the monoidic properties:\n",
    "\n",
    "Let a, b, c, Zero be type of T\n",
    "\n",
    "Then the following properties must hold:\n",
    "\n",
    "# Binary operation:\n",
    "\n",
    "$f: (T, T) \\rightarrow T$\n",
    "\n",
    "# Neutral element:\n",
    "\n",
    "for all a in T:\n",
    "\n",
    "$f(Zero, a) = a$\n",
    "\n",
    "$f(a, Zero) = a$\n",
    "\n",
    "# Associativity:\n",
    "\n",
    "for all a, b, c in T:\n",
    "\n",
    "$ f(f(a, b), c) = f(a, f(b, c))$"
   ]
  },
  {
   "cell_type": "markdown",
   "metadata": {},
   "source": [
    "# Examples\n",
    "\n",
    "mean(10, mean(30, 50)) != mean(mean(10, 30), 50)\n",
    "\n",
    "where\n",
    "\n",
    "   mean(10, mean(30, 50))\n",
    "\n",
    "      = mean (10, 40)\n",
    "\n",
    "      = 25\n",
    "\n",
    "   mean(mean(10, 30), 50)\n",
    "\n",
    "      = mean (20, 50)\n",
    "\n",
    "      = 35\n",
    "\n",
    "   25 != 35"
   ]
  },
  {
   "cell_type": "markdown",
   "metadata": {},
   "source": [
    "# Integers with addition:\n",
    "\n",
    "1)  (Inetger, Integer) = Integer\n",
    "\n",
    "\n",
    "2)  Zero element : 0\n",
    "    \n",
    "    $f(a,0)=f(0,a)=a$\n",
    "\n",
    "3)  Associativity\n",
    "    \n",
    "    $f(a,b) = a + b$\n",
    "\n",
    "    $f(f(a,b),c)= f(a+b,c)= (a+b)+c$\n",
    "\n",
    "    $f(a,f(b,c))=f(a,b+c)= a+(b+c)$\n",
    "\n",
    "\n"
   ]
  },
  {
   "cell_type": "markdown",
   "metadata": {},
   "source": [
    "# Integers with multiplication\n",
    "\n",
    "1)  (Inetger, Integer) = Integer\n",
    "\n",
    "\n",
    "2)  Zero element : 1\n",
    "    \n",
    "    $f(a,1)=f(1,a)=a$\n",
    "\n",
    "3)  Associativity\n",
    "    \n",
    "    $f(a,b) = a * b$\n",
    "\n",
    "    $f(f(a,b),c)= f(a*b,c)= (a*b)*c$\n",
    "\n",
    "    $f(a,f(b,c))=f(a,b*c)= a*(b*c)$"
   ]
  },
  {
   "cell_type": "markdown",
   "metadata": {},
   "source": [
    "# Strings with concatenation\n",
    "\n",
    "(a + (b + c)) = ((a + b) + c)\n",
    "\n",
    "\"\" + s = s\n",
    "\n",
    "s + \"\" = s\n",
    "\n",
    "The Zero element for concatenation is an empty string of size 0."
   ]
  },
  {
   "cell_type": "markdown",
   "metadata": {},
   "source": [
    "# Lists with concatenation\n",
    " List(a, b) + List(c, d) = List(a,b,c,d)"
   ]
  },
  {
   "cell_type": "markdown",
   "metadata": {},
   "source": [
    "# Sets with their union:\n",
    "\n",
    "Set(1,2,3) + Set(2,4,5)\n",
    "    \n",
    "    = Set(1,2,3,2,4,5)\n",
    "    = Set(1,2,3,4,5)\n",
    "\n",
    "Zero element:\n",
    "\n",
    "S + {} = S\n",
    "\n",
    "{} + S = S\n",
    "\n",
    "The Zero element is an empty set {}.\n"
   ]
  },
  {
   "cell_type": "markdown",
   "metadata": {},
   "source": [
    "# Non-Monoid Examples\n",
    "\n",
    "Integers with mean function:\n",
    "\n",
    "   mean(mean(a,b),c) != mean(a, mean(b,c))\n",
    "   \n",
    "Integers with subtraction:\n",
    "\n",
    "   ((a - b) -c) != (a - (b - c))\n",
    "\n",
    "Integers with division:\n",
    "\n",
    "   ((a / b) / c) != (a / (b / c))\n",
    "\n",
    "Integers with mode:\n",
    "\n",
    "mode(mode(a, b), c) != mode(a, mode(b, c))\n",
    "\n",
    "Integers with median:\n",
    "\n",
    "median(median(a, b), c) != median(a, median(b, c))"
   ]
  },
  {
   "cell_type": "markdown",
   "metadata": {},
   "source": [
    "# Coding\n",
    "\n",
    "To compute mean of ratings per user, we can use a monoid data structure (which supports associativity and commutativity) such as a pair of (sum, count), where sum is the total sum of all numbers — ratings —  we have visited (per partition) and count is the number of ratings we have visited so far.\n",
    "\n",
    "$$mean(pair(sum, count)) = sum / count$$\n",
    "\n",
    "\n",
    "1)  Type\n",
    "\n",
    "    $A = (sum, count)$\n",
    "\n",
    "    $f:(A:A1,A:A2) = (A1.sum +A2.sum, A1.count+A2.count)$\n",
    "\n",
    "\n",
    "2)  The Zero element is (0.0, 0)\n",
    "    \n",
    "    $f(A, Zero) = A$\n",
    "    \n",
    "    $f(Zero, A) = A$\n",
    "    \n",
    "    f(A, Zero)\n",
    "    = (sum+0.0, count+0)\n",
    "    = (sum, count)\n",
    "    = A\n",
    "\n",
    "    f(Zero, A)\n",
    "    = (0.0+sum, 0+count)\n",
    "    = (sum, count)\n",
    "    = A\n",
    "\n",
    "3)  Assoacitivity\n",
    "\n",
    "    $f(f(A:X,A:Y),A:Z) = f((X.sum+Y.sum,X.count+Y.count),Z)=(X.sum+Y.sum)+Z.sum$\n",
    "\n",
    "    $f(A:X,f(A:Y,A:Z) = f(X,(Y.sum+Z.sum, Y.count+Z.count)=X.sum+(Y.sum+Z.sum)$\n",
    "\n",
    "\n",
    "4)  Commutative\n",
    "\n",
    "    $f(f(A:X,A:Y) = (X.sum + Y.sum,X.count+Y.count)$\n",
    "\n",
    "    $f(A:Y,A:X) = (Y.sum + X.sum,Y.count+X.count)$\n",
    "    \n",
    "    $f(f(A:X,A:Y)= f(f(A:Y,A:X)$\n",
    "\n",
    "\n",
    "\n",
    "\n"
   ]
  },
  {
   "cell_type": "markdown",
   "metadata": {},
   "source": [
    "# First take a look at the signature of aggregateByKey() in simple form:\n",
    "\n",
    "aggregateByKey(zero_value, seq_func, comb_func)\n",
    "\n",
    "\n",
    "1) Create a A from zero_value (so called an initial value) per partition\n",
    "\n",
    "2) Merge a V and a A into a single C (inside a partition)\n",
    "\n",
    "3) Combine two A’s into a single A (combining two partitions)\n",
    "\n",
    "A is a combined data structure, which in our case here, denotes a pair of (sum, count)"
   ]
  },
  {
   "cell_type": "code",
   "execution_count": 1,
   "metadata": {},
   "outputs": [],
   "source": [
    "def create_pair(rating_record):\n",
    "\ttokens = rating_record.split(\",\")\n",
    "\tuserID = tokens[0]\n",
    "\trating = float(tokens[2])\n",
    "\treturn (userID, rating)"
   ]
  },
  {
   "cell_type": "code",
   "execution_count": 5,
   "metadata": {},
   "outputs": [],
   "source": [
    "from pyspark.sql import SparkSession\n",
    "spark=SparkSession.builder.appName(\"monoid\").master(\"local[*]\").getOrCreate()"
   ]
  },
  {
   "cell_type": "code",
   "execution_count": 7,
   "metadata": {},
   "outputs": [
    {
     "data": {
      "text/plain": [
       "25000095"
      ]
     },
     "execution_count": 7,
     "metadata": {},
     "output_type": "execute_result"
    }
   ],
   "source": [
    "ratings_path = \"C:/Users/malam/development/data/spark/ml-25m/ratings.csv.no.header\"\n",
    "rdd = spark.sparkContext.textFile(ratings_path)\n",
    "# load user-defined python function\n",
    "ratings = rdd.map(lambda rec : create_pair(rec))\n",
    "ratings.count()"
   ]
  },
  {
   "cell_type": "code",
   "execution_count": 10,
   "metadata": {},
   "outputs": [
    {
     "data": {
      "text/plain": [
       "[('2', (668.0, 184)),\n",
       " ('13', (1466.5, 412)),\n",
       " ('24', (100.5, 25)),\n",
       " ('33', (93.0, 23)),\n",
       " ('70', (652.0, 196)),\n",
       " ('76', (731.5, 182)),\n",
       " ('77', (140.0, 45)),\n",
       " ('111', (101.5, 23)),\n",
       " ('113', (469.5, 133)),\n",
       " ('119', (398.0, 124))]"
      ]
     },
     "execution_count": 10,
     "metadata": {},
     "output_type": "execute_result"
    }
   ],
   "source": [
    "sum_count = ratings.aggregateByKey(\n",
    "    (0.0, 0),\n",
    "    (lambda C, V: (C[0]+V, C[1]+1)),\n",
    "    (lambda C1, C2: (C1[0]+C2[0], C1[1]+C2[1]))\n",
    ")\n",
    "\n",
    "sum_count.take(10)"
   ]
  },
  {
   "cell_type": "code",
   "execution_count": 9,
   "metadata": {},
   "outputs": [],
   "source": [
    "average_rating = sum_count.mapValues(lambda x: (x[0]/x[1]))"
   ]
  }
 ],
 "metadata": {
  "interpreter": {
   "hash": "9545096d6a52d4b34adce3167e4787f469b0299861bb959c27dd86fc7feca162"
  },
  "kernelspec": {
   "display_name": "Python 3.9.7 64-bit ('pyspark': conda)",
   "language": "python",
   "name": "python3"
  },
  "language_info": {
   "codemirror_mode": {
    "name": "ipython",
    "version": 3
   },
   "file_extension": ".py",
   "mimetype": "text/x-python",
   "name": "python",
   "nbconvert_exporter": "python",
   "pygments_lexer": "ipython3",
   "version": "3.9.7"
  },
  "orig_nbformat": 4
 },
 "nbformat": 4,
 "nbformat_minor": 2
}
