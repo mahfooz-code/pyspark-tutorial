{
 "cells": [
  {
   "cell_type": "markdown",
   "metadata": {},
   "source": [
    "#   Spark Action\n",
    "    \n",
    "    Spark actions are RDD operations or functions that produce non-RDD values. Actions may trigger a previously constructed, lazy RDDs to be evaluated. Informally, we can express an action as:\n",
    "\n",
    "    action: RDD => non-RDD value\n",
    "    \n",
    "    Action output can be a tangible value: such as a saved file, a value such as integer, count of elements, list of values, dictionary, and so on."
   ]
  },
  {
   "cell_type": "markdown",
   "metadata": {},
   "source": [
    "\n",
    "#   reduce(): \n",
    "    apply a function to deliver a single value such as adding values for a given RDD[Integer]"
   ]
  },
  {
   "cell_type": "code",
   "execution_count": null,
   "metadata": {},
   "outputs": [],
   "source": []
  },
  {
   "cell_type": "markdown",
   "metadata": {},
   "source": [
    "#   collect(): \n",
    "    convert an RDD[T] into a list of type T\n",
    "\n",
    "    Don't collect() on Large RDDs.\n",
    "    RDD.collect() action for testing, debugging, educational, and demonstration purposes.\n",
    "    You should avoid using it on the production servers.\n",
    "     When a collect() operation is called on a RDD, the entire RDD’s dataset is copied to the driver program.\n"
   ]
  },
  {
   "cell_type": "markdown",
   "metadata": {},
   "source": [
    "\n",
    "#   count(): \n",
    "    find the number of elements for a given RDD"
   ]
  },
  {
   "cell_type": "markdown",
   "metadata": {},
   "source": [
    "\n",
    "#   saveAsTextFile(): \n",
    "    save RDD elements to a disk"
   ]
  },
  {
   "cell_type": "markdown",
   "metadata": {},
   "source": [
    "#   saveAsMap(): \n",
    "    save RDD[K,V] elements to a disk as a dict[K, V]"
   ]
  }
 ],
 "metadata": {
  "language_info": {
   "name": "python"
  },
  "orig_nbformat": 4
 },
 "nbformat": 4,
 "nbformat_minor": 2
}
