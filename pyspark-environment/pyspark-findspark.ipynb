{
 "cells": [
  {
   "cell_type": "code",
   "execution_count": 2,
   "metadata": {},
   "outputs": [],
   "source": [
    "import findspark"
   ]
  },
  {
   "cell_type": "code",
   "execution_count": 3,
   "metadata": {},
   "outputs": [],
   "source": [
    "\n",
    "findspark.init()"
   ]
  },
  {
   "cell_type": "code",
   "execution_count": 4,
   "metadata": {},
   "outputs": [],
   "source": [
    "from pyspark.sql  import SparkSession\n",
    "spark=SparkSession.builder  \\\n",
    "    .appName(\"spark-agg\") \\\n",
    "    .master(\"local\")    \\\n",
    "    .getOrCreate()"
   ]
  },
  {
   "cell_type": "code",
   "execution_count": 4,
   "metadata": {},
   "outputs": [],
   "source": [
    "def create_pair(record):\n",
    "    tokens = record.split(',')\n",
    "    url_address = tokens[0]\n",
    "    frequency = tokens[1]\n",
    "    return (url_address, frequency)"
   ]
  },
  {
   "cell_type": "code",
   "execution_count": 5,
   "metadata": {},
   "outputs": [],
   "source": [
    "import statistics\n",
    "def compute_stats(frequencies):\n",
    "    print(frequencies)\n",
    "    average = statistics.mean(frequencies)\n",
    "    median = statistics.median(frequencies)\n",
    "    standard_deviation = statistics.stdev(frequencies)\n",
    "    return (average, median, standard_deviation)"
   ]
  },
  {
   "cell_type": "code",
   "execution_count": 13,
   "metadata": {},
   "outputs": [],
   "source": [
    "input_path = \"C:/Users/malam/development/data/spark/site-traffic.txt\"\n",
    "#input_path = \"malam/site-traffic.txt\"\n",
    "results = spark.sparkContext \\\n",
    "    .textFile(input_path)   \\\n",
    "    .filter(lambda record: len(record) > 2) \\\n",
    "    .map(create_pair)  \\\n",
    "    .groupByKey() \n",
    "    #.mapValues(compute_stats)"
   ]
  },
  {
   "cell_type": "code",
   "execution_count": 21,
   "metadata": {},
   "outputs": [
    {
     "name": "stdout",
     "output_type": "stream",
     "text": [
      "[('http://mapreduce4hackers.com', <pyspark.resultiterable.ResultIterable object at 0x000001CAB5115668>)]\n"
     ]
    }
   ],
   "source": [
    "\n",
    "result=results.collect()"
   ]
  },
  {
   "cell_type": "code",
   "execution_count": 5,
   "metadata": {},
   "outputs": [],
   "source": [
    "spark.stop()"
   ]
  }
 ],
 "metadata": {
  "interpreter": {
   "hash": "6d6ff2669bd9ba16b5e30f84b5b0a230ad0345096391daf6c90cd917abc3e1ac"
  },
  "kernelspec": {
   "display_name": "Python 3.6.13 64-bit ('spark': conda)",
   "language": "python",
   "name": "python3"
  },
  "language_info": {
   "codemirror_mode": {
    "name": "ipython",
    "version": 3
   },
   "file_extension": ".py",
   "mimetype": "text/x-python",
   "name": "python",
   "nbconvert_exporter": "python",
   "pygments_lexer": "ipython3",
   "version": "3.6.13"
  },
  "orig_nbformat": 4
 },
 "nbformat": 4,
 "nbformat_minor": 2
}
