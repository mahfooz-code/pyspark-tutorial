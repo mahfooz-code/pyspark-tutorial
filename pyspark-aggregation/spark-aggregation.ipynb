{
 "cells": [
  {
   "cell_type": "markdown",
   "metadata": {},
   "source": [
    "# Environment\n",
    "java8='C:/Program Files/Java/jdk1.8.0_221'\n",
    "\n",
    "os.environ['JAVA_HOME'] = java8"
   ]
  },
  {
   "cell_type": "code",
   "execution_count": 1,
   "metadata": {},
   "outputs": [],
   "source": [
    "from pyspark.sql  import SparkSession\n",
    "spark=SparkSession.builder  \\\n",
    "    .appName(\"spark-agg\") \\\n",
    "    .master(\"local\")    \\\n",
    "    .getOrCreate()"
   ]
  },
  {
   "cell_type": "code",
   "execution_count": 9,
   "metadata": {},
   "outputs": [],
   "source": [
    "# create a pair of (URL-address, frequency)\n",
    "# where URL-address is a key and frequency is a value\n",
    "# record denotes a single element of RDD[String]\n",
    "# record: <url-address><,><frequency>\n",
    "def create_pair(record):\n",
    "    tokens = record.split(',')\n",
    "    url_address = tokens[0]\n",
    "    frequency = int(tokens[1])\n",
    "    return (url_address, frequency)\n",
    " #end-def"
   ]
  },
  {
   "cell_type": "markdown",
   "metadata": {},
   "source": [
    "# Compute average, median, and standard deviation for a given set of numbers"
   ]
  },
  {
   "cell_type": "code",
   "execution_count": 13,
   "metadata": {},
   "outputs": [],
   "source": [
    "import statistics\n",
    "def compute_stats(frequencies):\n",
    "    average = statistics.mean(frequencies)\n",
    "    median = statistics.median(frequencies)\n",
    "    standard_deviation = statistics.stdev(frequencies)\n",
    "    return (average, median, standard_deviation)\n",
    " #end-def"
   ]
  },
  {
   "cell_type": "markdown",
   "metadata": {},
   "source": [
    "# Running program now"
   ]
  },
  {
   "cell_type": "code",
   "execution_count": 14,
   "metadata": {},
   "outputs": [],
   "source": [
    "input_path = \"C:/Users/malam/development/data/spark/site-traffic.txt\"\n",
    "#input_path = \"malam/site-traffic.txt\"\n",
    "results = spark.sparkContext \\\n",
    "    .textFile(input_path)   \\\n",
    "    .filter(lambda record: len(record) > 5) \\\n",
    "    .map(create_pair)  \\\n",
    "    .groupByKey()  \\\n",
    "    .mapValues(compute_stats)"
   ]
  },
  {
   "cell_type": "code",
   "execution_count": 15,
   "metadata": {},
   "outputs": [
    {
     "data": {
      "text/plain": [
       "[('http://mapreduce4hackers.com', (22239, 19779, 8048.094246466054))]"
      ]
     },
     "execution_count": 15,
     "metadata": {},
     "output_type": "execute_result"
    }
   ],
   "source": [
    "results.collect()"
   ]
  }
 ],
 "metadata": {
  "interpreter": {
   "hash": "6d6ff2669bd9ba16b5e30f84b5b0a230ad0345096391daf6c90cd917abc3e1ac"
  },
  "kernelspec": {
   "display_name": "Python 3 (ipykernel)",
   "language": "python",
   "name": "python3"
  },
  "language_info": {
   "codemirror_mode": {
    "name": "ipython",
    "version": 3
   },
   "file_extension": ".py",
   "mimetype": "text/x-python",
   "name": "python",
   "nbconvert_exporter": "python",
   "pygments_lexer": "ipython3",
   "version": "3.9.7"
  }
 },
 "nbformat": 4,
 "nbformat_minor": 2
}
