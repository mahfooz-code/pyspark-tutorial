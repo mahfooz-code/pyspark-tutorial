{
 "cells": [
  {
   "cell_type": "markdown",
   "metadata": {},
   "source": [
    "ReduceByKey() transformation, data are combined at each partition, only one output for one key at each partition to send over the network of Spark servers.\n",
    "\n",
    "The reduceByKey() merges the values for each key using an associative and commutative reduce function.\n",
    "\n",
    "The reduceByKey() transformation is required combining all values (per key) into another value with the exact same data type (this is a limitation, in which can be overcome by using combineByKey() transformation).\n",
    "\n",
    "Overall, the reduceByKey() is more scaleable than the groupByKey()."
   ]
  }
 ],
 "metadata": {
  "language_info": {
   "name": "python"
  },
  "orig_nbformat": 4
 },
 "nbformat": 4,
 "nbformat_minor": 2
}
