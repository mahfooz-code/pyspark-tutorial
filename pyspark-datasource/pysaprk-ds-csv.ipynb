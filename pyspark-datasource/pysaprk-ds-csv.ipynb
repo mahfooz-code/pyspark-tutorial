{
 "cells": [
  {
   "cell_type": "markdown",
   "metadata": {},
   "source": [
    "# Spark CSV DS"
   ]
  },
  {
   "cell_type": "code",
   "execution_count": 1,
   "metadata": {},
   "outputs": [],
   "source": [
    "from pyspark.sql import SparkSession"
   ]
  },
  {
   "cell_type": "code",
   "execution_count": 2,
   "metadata": {},
   "outputs": [],
   "source": [
    "#Creating spark session\n",
    "spark = SparkSession.builder.getOrCreate()"
   ]
  },
  {
   "cell_type": "code",
   "execution_count": 3,
   "metadata": {},
   "outputs": [],
   "source": [
    "# define input path\n",
    "virus_input_path = \"C:/Users/malam/development/data/spark/us-states.csv\"\n",
    "\n",
    "# read CSV file and create a DataFrame\n",
    "cases_dataframe = spark.read.load(virus_input_path,format=\"csv\",\n",
    "   sep=\",\", inferSchema=\"true\", header=\"true\")"
   ]
  },
  {
   "cell_type": "code",
   "execution_count": 4,
   "metadata": {},
   "outputs": [
    {
     "name": "stdout",
     "output_type": "stream",
     "text": [
      "+----------+----------+----+-----+------+\n",
      "|      date|     state|fips|cases|deaths|\n",
      "+----------+----------+----+-----+------+\n",
      "|2020-01-21|Washington|  53|    1|     0|\n",
      "|2020-01-22|Washington|  53|    1|     0|\n",
      "|2020-01-23|Washington|  53|    1|     0|\n",
      "+----------+----------+----+-----+------+\n",
      "only showing top 3 rows\n",
      "\n"
     ]
    }
   ],
   "source": [
    "# show the first 3 rows of created dataframe\n",
    "cases_dataframe.show(3)"
   ]
  },
  {
   "cell_type": "code",
   "execution_count": 5,
   "metadata": {},
   "outputs": [
    {
     "name": "stdout",
     "output_type": "stream",
     "text": [
      "+----------+----------+----+-------+------+\n",
      "|      date|     state|fips|  cases|deaths|\n",
      "+----------+----------+----+-------+------+\n",
      "|2021-12-24|California|   6|5291605| 76317|\n",
      "|2021-12-23|California|   6|5271267| 76249|\n",
      "|2021-12-22|California|   6|5251204| 76151|\n",
      "|2021-12-21|California|   6|5238804| 76077|\n",
      "|2021-12-20|California|   6|5227931| 76014|\n",
      "|2021-12-19|California|   6|5208847| 75927|\n",
      "|2021-12-18|California|   6|5205345| 75917|\n",
      "|2021-12-17|California|   6|5201644| 75898|\n",
      "|2021-12-16|California|   6|5192915| 75792|\n",
      "|2021-12-15|California|   6|5184663| 75718|\n",
      "|2021-12-14|California|   6|5179298| 75637|\n",
      "|2021-12-13|California|   6|5173616| 75571|\n",
      "|2021-12-12|California|   6|5158764| 75477|\n",
      "|2021-12-11|California|   6|5157293| 75468|\n",
      "|2021-12-10|California|   6|5155484| 75445|\n",
      "|2021-12-09|California|   6|5148904| 75374|\n",
      "|2021-12-08|California|   6|5141243| 75279|\n",
      "|2021-12-07|California|   6|5135147| 75169|\n",
      "|2021-12-06|California|   6|5128950| 75102|\n",
      "|2021-12-05|California|   6|5111469| 75008|\n",
      "+----------+----------+----+-------+------+\n",
      "only showing top 20 rows\n",
      "\n"
     ]
    }
   ],
   "source": [
    "from pyspark.sql import functions as F\n",
    "cases_dataframe.sort(F.desc(\"cases\")).show()"
   ]
  },
  {
   "cell_type": "code",
   "execution_count": 6,
   "metadata": {},
   "outputs": [
    {
     "name": "stdout",
     "output_type": "stream",
     "text": [
      "+----------+----------+----+-----+------+\n",
      "|      date|     state|fips|cases|deaths|\n",
      "+----------+----------+----+-----+------+\n",
      "|2020-04-02|California|   6|11190|   247|\n",
      "|2020-04-03|California|   6|12569|   282|\n",
      "|2020-04-04|California|   6|13796|   323|\n",
      "|2020-04-05|California|   6|15202|   351|\n",
      "|2020-04-06|California|   6|16361|   386|\n",
      "|2020-04-07|California|   6|17540|   447|\n",
      "|2020-04-08|California|   6|19043|   506|\n",
      "|2020-04-09|California|   6|20191|   548|\n",
      "|2020-04-10|California|   6|21366|   594|\n",
      "|2020-04-11|California|   6|22421|   632|\n",
      "|2020-04-12|California|   6|23323|   676|\n",
      "|2020-04-13|California|   6|24334|   725|\n",
      "|2020-04-14|California|   6|25758|   778|\n",
      "|2020-04-15|California|   6|27107|   885|\n",
      "|2020-04-16|California|   6|28142|   971|\n",
      "|2020-04-17|California|   6|29398|  1050|\n",
      "|2020-04-18|California|   6|30829|  1146|\n",
      "|2020-04-19|California|   6|31544|  1176|\n",
      "|2020-04-20|California|   6|33862|  1223|\n",
      "|2020-04-21|California|   6|35844|  1316|\n",
      "+----------+----------+----+-----+------+\n",
      "only showing top 20 rows\n",
      "\n"
     ]
    }
   ],
   "source": [
    "cases_dataframe.filter((cases_dataframe.cases > 10000) &\n",
    "                       (cases_dataframe.state == 'California')).show()"
   ]
  },
  {
   "cell_type": "markdown",
   "metadata": {},
   "source": [
    "# Writing to partition data\n"
   ]
  },
  {
   "cell_type": "code",
   "execution_count": 7,
   "metadata": {},
   "outputs": [],
   "source": [
    "output_path = 'C:/Users/malam/development/data/spark/csv/cases_partition'\n",
    "cases_dataframe.write.partitionBy('state').csv(output_path)"
   ]
  },
  {
   "cell_type": "code",
   "execution_count": null,
   "metadata": {},
   "outputs": [],
   "source": []
  }
 ],
 "metadata": {
  "interpreter": {
   "hash": "9545096d6a52d4b34adce3167e4787f469b0299861bb959c27dd86fc7feca162"
  },
  "kernelspec": {
   "display_name": "Python 3 (ipykernel)",
   "language": "python",
   "name": "python3"
  },
  "language_info": {
   "codemirror_mode": {
    "name": "ipython",
    "version": 3
   },
   "file_extension": ".py",
   "mimetype": "text/x-python",
   "name": "python",
   "nbconvert_exporter": "python",
   "pygments_lexer": "ipython3",
   "version": "3.9.7"
  }
 },
 "nbformat": 4,
 "nbformat_minor": 2
}
