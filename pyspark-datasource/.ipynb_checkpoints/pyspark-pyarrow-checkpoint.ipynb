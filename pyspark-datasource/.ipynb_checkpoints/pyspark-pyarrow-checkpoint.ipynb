{
 "cells": [
  {
   "cell_type": "markdown",
   "id": "51bc5711",
   "metadata": {},
   "source": [
    "# Enabling for Conversion to/from Pandas"
   ]
  },
  {
   "cell_type": "code",
   "execution_count": 3,
   "id": "5c1dbc7b",
   "metadata": {},
   "outputs": [],
   "source": [
    "import numpy as np  # type: ignore[import]\n",
    "import pandas as pd  # type: ignore[import]\n",
    "from pyspark.sql import SparkSession\n",
    "spark=SparkSession.builder.getOrCreate()\n"
   ]
  },
  {
   "cell_type": "markdown",
   "id": "49ce4c80",
   "metadata": {},
   "source": [
    "# Enable Arrow-based columnar data transfers"
   ]
  },
  {
   "cell_type": "code",
   "execution_count": 4,
   "id": "ce0e9cf0",
   "metadata": {},
   "outputs": [],
   "source": [
    "spark.conf.set(\"spark.sql.execution.arrow.pyspark.enabled\", \"true\")"
   ]
  },
  {
   "cell_type": "markdown",
   "id": "b9215bd1",
   "metadata": {},
   "source": [
    "# Generate a Pandas DataFrame"
   ]
  },
  {
   "cell_type": "code",
   "execution_count": 5,
   "id": "2720d3d4",
   "metadata": {},
   "outputs": [],
   "source": [
    "pdf = pd.DataFrame(np.random.rand(100, 3))\n"
   ]
  },
  {
   "cell_type": "markdown",
   "id": "37546a3d",
   "metadata": {},
   "source": [
    "# Create a Spark DataFrame from a Pandas DataFrame using Arrow\n"
   ]
  },
  {
   "cell_type": "code",
   "execution_count": 6,
   "id": "044e8d5d",
   "metadata": {},
   "outputs": [],
   "source": [
    "df = spark.createDataFrame(pdf)\n"
   ]
  },
  {
   "cell_type": "markdown",
   "id": "53bb8552",
   "metadata": {},
   "source": [
    "# Convert the Spark DataFrame back to a Pandas DataFrame using Arrow\n"
   ]
  },
  {
   "cell_type": "code",
   "execution_count": 7,
   "id": "5f22457d",
   "metadata": {},
   "outputs": [],
   "source": [
    "result_pdf = df.select(\"*\").toPandas()"
   ]
  },
  {
   "cell_type": "code",
   "execution_count": 8,
   "id": "0c22e5b7",
   "metadata": {},
   "outputs": [
    {
     "data": {
      "text/html": [
       "<div>\n",
       "<style scoped>\n",
       "    .dataframe tbody tr th:only-of-type {\n",
       "        vertical-align: middle;\n",
       "    }\n",
       "\n",
       "    .dataframe tbody tr th {\n",
       "        vertical-align: top;\n",
       "    }\n",
       "\n",
       "    .dataframe thead th {\n",
       "        text-align: right;\n",
       "    }\n",
       "</style>\n",
       "<table border=\"1\" class=\"dataframe\">\n",
       "  <thead>\n",
       "    <tr style=\"text-align: right;\">\n",
       "      <th></th>\n",
       "      <th>0</th>\n",
       "      <th>1</th>\n",
       "      <th>2</th>\n",
       "    </tr>\n",
       "  </thead>\n",
       "  <tbody>\n",
       "    <tr>\n",
       "      <th>0</th>\n",
       "      <td>0.360305</td>\n",
       "      <td>0.168711</td>\n",
       "      <td>0.130761</td>\n",
       "    </tr>\n",
       "    <tr>\n",
       "      <th>1</th>\n",
       "      <td>0.183554</td>\n",
       "      <td>0.884819</td>\n",
       "      <td>0.368780</td>\n",
       "    </tr>\n",
       "    <tr>\n",
       "      <th>2</th>\n",
       "      <td>0.233076</td>\n",
       "      <td>0.321375</td>\n",
       "      <td>0.411403</td>\n",
       "    </tr>\n",
       "    <tr>\n",
       "      <th>3</th>\n",
       "      <td>0.866633</td>\n",
       "      <td>0.247590</td>\n",
       "      <td>0.702842</td>\n",
       "    </tr>\n",
       "    <tr>\n",
       "      <th>4</th>\n",
       "      <td>0.983980</td>\n",
       "      <td>0.223521</td>\n",
       "      <td>0.375173</td>\n",
       "    </tr>\n",
       "    <tr>\n",
       "      <th>...</th>\n",
       "      <td>...</td>\n",
       "      <td>...</td>\n",
       "      <td>...</td>\n",
       "    </tr>\n",
       "    <tr>\n",
       "      <th>95</th>\n",
       "      <td>0.379093</td>\n",
       "      <td>0.962261</td>\n",
       "      <td>0.201708</td>\n",
       "    </tr>\n",
       "    <tr>\n",
       "      <th>96</th>\n",
       "      <td>0.320539</td>\n",
       "      <td>0.064010</td>\n",
       "      <td>0.744991</td>\n",
       "    </tr>\n",
       "    <tr>\n",
       "      <th>97</th>\n",
       "      <td>0.169182</td>\n",
       "      <td>0.823393</td>\n",
       "      <td>0.991336</td>\n",
       "    </tr>\n",
       "    <tr>\n",
       "      <th>98</th>\n",
       "      <td>0.246143</td>\n",
       "      <td>0.994671</td>\n",
       "      <td>0.445751</td>\n",
       "    </tr>\n",
       "    <tr>\n",
       "      <th>99</th>\n",
       "      <td>0.393866</td>\n",
       "      <td>0.618729</td>\n",
       "      <td>0.288639</td>\n",
       "    </tr>\n",
       "  </tbody>\n",
       "</table>\n",
       "<p>100 rows × 3 columns</p>\n",
       "</div>"
      ],
      "text/plain": [
       "           0         1         2\n",
       "0   0.360305  0.168711  0.130761\n",
       "1   0.183554  0.884819  0.368780\n",
       "2   0.233076  0.321375  0.411403\n",
       "3   0.866633  0.247590  0.702842\n",
       "4   0.983980  0.223521  0.375173\n",
       "..       ...       ...       ...\n",
       "95  0.379093  0.962261  0.201708\n",
       "96  0.320539  0.064010  0.744991\n",
       "97  0.169182  0.823393  0.991336\n",
       "98  0.246143  0.994671  0.445751\n",
       "99  0.393866  0.618729  0.288639\n",
       "\n",
       "[100 rows x 3 columns]"
      ]
     },
     "execution_count": 8,
     "metadata": {},
     "output_type": "execute_result"
    }
   ],
   "source": [
    "result_pdf"
   ]
  },
  {
   "cell_type": "code",
   "execution_count": 9,
   "id": "03e03057",
   "metadata": {},
   "outputs": [],
   "source": [
    "spark.stop()"
   ]
  },
  {
   "cell_type": "code",
   "execution_count": null,
   "id": "21994b08",
   "metadata": {},
   "outputs": [],
   "source": []
  }
 ],
 "metadata": {
  "kernelspec": {
   "display_name": "Python 3 (ipykernel)",
   "language": "python",
   "name": "python3"
  },
  "language_info": {
   "codemirror_mode": {
    "name": "ipython",
    "version": 3
   },
   "file_extension": ".py",
   "mimetype": "text/x-python",
   "name": "python",
   "nbconvert_exporter": "python",
   "pygments_lexer": "ipython3",
   "version": "3.9.7"
  }
 },
 "nbformat": 4,
 "nbformat_minor": 5
}
