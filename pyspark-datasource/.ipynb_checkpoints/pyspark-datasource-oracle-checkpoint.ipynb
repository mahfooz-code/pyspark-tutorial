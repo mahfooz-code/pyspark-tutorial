{
 "cells": [
  {
   "cell_type": "markdown",
   "metadata": {},
   "source": [
    "# Spark Oracle"
   ]
  },
  {
   "cell_type": "code",
   "execution_count": 1,
   "metadata": {},
   "outputs": [],
   "source": [
    "from pyspark.sql import SparkSession\n",
    "\n",
    "spark = SparkSession \\\n",
    "    .builder \\\n",
    "    .config(\"spark.driver.extraClassPath\", \"C:/Users/malam/jdbc/ojdbc6-11.2.0.4.jar\") \\\n",
    "    .appName(\"pyspark-oracle-ds\") \\\n",
    "    .master(\"local[*]\") \\\n",
    "    .getOrCreate()"
   ]
  },
  {
   "cell_type": "code",
   "execution_count": 3,
   "metadata": {},
   "outputs": [],
   "source": [
    "df = spark.read \\\n",
    "   .format(\"jdbc\") \\\n",
    "   .option(\"url\", \"jdbc:oracle:thin:@camttpddb004a:1527/opstst\") \\\n",
    "   .option(\"dbtable\", \"ci.secs_mapping\") \\\n",
    "   .option(\"user\", \"api_user\") \\\n",
    "   .option(\"password\", \"api_user\") \\\n",
    "   .option(\"driver\", \"oracle.jdbc.driver.OracleDriver\") \\\n",
    "   .load()"
   ]
  },
  {
   "cell_type": "code",
   "execution_count": 5,
   "metadata": {},
   "outputs": [
    {
     "name": "stdout",
     "output_type": "stream",
     "text": [
      "+--------------+----------------+-------------+-------+------+-----------+-----------+--------------------+--------+--------------------+---------------+----------+----------+-------------+-----------+-----------+--------------+--------------------+---------+-------------+------------+--------------+\n",
      "|   CMS_CUST_ID|PRIM_CMS_CUST_ID|INTEC_CUST_ID|CPNY_ID|ORG_NO|OPTN_REL_NO|ORG_ABBR_CD|        ORG_LEGAL_NM|PRDCT_NO|    PRDCT_SHORT_DESC|SERV_ABBR_CTRCT|INCOM_TYPE|PRFIL_TYPE| PRFIL_REL_NO|AR_LOCATION|RAPIDCDR_FL|INVCE_EMAIL_FL|    INVCE_EMAIL_ADDR|NTWRK_IND|MASTR_CPNY_ID|PRTNR_ORG_NO|DIRCT_AGRMT_FL|\n",
      "+--------------+----------------+-------------+-------+------+-----------+-----------+--------------------+--------+--------------------+---------------+----------+----------+-------------+-----------+-----------+--------------+--------------------+---------+-------------+------------+--------------+\n",
      "|  2.0000000000|            null|         null|  TGBUS| 13727|          9|        IIX|ITXC DATA TRANSPO...|     132|VTSITXC-VTS ECON-REC|        VTSITXC|         R|        IN| 2.0000000000|      INV-2|          N|             N|                null|        I|         null|        null|             N|\n",
      "|  2.0000000000|            null|         null|  TGBUS| 13727|         10|        IIX|ITXC DATA TRANSPO...|     133|VTSITXC-VTS ECON-PAY|        VTSITXC|         P|        DR| 3.0000000000|   DECL-R-3|          N|             N|                null|        I|         null|        null|             N|\n",
      "| 30.0000000000|            null|         null|  TGBUS|  6367|          3|      PT1CO| PT-1 COMMUNICATIONS|      70|        TP-TELEPHONE|             TP|         P|      null|         null|       null|       null|          null|                null|        I|         null|        null|             N|\n",
      "| 31.0000000000|            null|         null|  TGBUS|   735|          6|      ENTPR|TELEFONICA DEL PE...|     179|   VTSSL1 TERMINATOR|         VTSSL1|         P|      null|         null|       null|       null|          null|                null|        I|         null|        null|             N|\n",
      "| 32.0000000000|            null|         null|  TGBUS|    43|          2|        FZG| DEUTSCHE TELEKOM AG|     123|VTSPREM-VTSMOBILPREM|        VTSPREM|         R|        IN| 2.0000000000|      INV-2|          N|             N|                null|        B|         null|        null|             N|\n",
      "| 33.0000000000|            null|         null|  TGBUK|    20|          1|      PGSAF|TELKOM SOUTH AFRI...|       1|   VTS-ORIG. TRANSIT|            VTS|         R|      null|         null|       null|       null|          null|                null|        I|         null|        null|             N|\n",
      "| 34.0000000000|            null|         null|  TGBCN| 18271|          3|      GENET|GENESIS TELECOMMU...|       1|   VTS-ORIG. TRANSIT|            VTS|         R|        IN| 3.0000000000|      INV-3|          N|             N|                null|        T|         null|        null|             N|\n",
      "| 35.0000000000|            null|         null|  TGBCN|     7|          1|       null|       C_ABLE TRAVEL|     104|               BILAT|          BILAT|         R|      null|         null|       null|       null|          null|                null|        B|         null|        null|             N|\n",
      "| 35.0000000000|            null|         null|  TGBCN|     7|          4|       null|       C_ABLE TRAVEL|     135|VTSSL1 - VTS Economy|         VTSSL1|         P|      null|         null|       null|       null|          null|                null|        I|         null|        null|             N|\n",
      "| 36.0000000000|            null|         null|  TGBCN|     7|          6|       null|       C_ABLE TRAVEL|     123|VTSPREM-VTSMOBILPREM|        VTSPREM|         R|        IN| 1.0000000000|      INV-1|          N|             N|                null|        I|         null|        null|             N|\n",
      "| 37.0000000000|            null|         null|  TGHOL| 19984|          3|      LUNAB|           LUNA B.V.|       4|         VTS800-ITFS|         VTS800|         R|      null|         null|       null|       null|          null|                null|        B|         null|        null|             N|\n",
      "| 38.0000000000|            null|         null|  TGBCN| 11585|          8|        RCD|C_RSL COM DEUTSCH...|       1|   VTS-ORIG. TRANSIT|            VTS|         R|        IN| 1.0000000000|      INV-1|          N|             N|                null|        I|         null|        null|             N|\n",
      "| 40.0000000000|            null|         null|  TGBCN| 23151|          2|       null|           TEST KIM2|       1|   VTS-ORIG. TRANSIT|            VTS|         R|      null|         null|       null|       null|          null|                null|        I|         null|        null|             N|\n",
      "| 41.0000000000|            null|         null|  TGBUS|   253|          3|      ENTCO|TELECOM COLOMBIA-...|       1|   VTS-ORIG. TRANSIT|            VTS|         R|      null|         null|       null|       null|          null|                null|        B|         null|        null|             N|\n",
      "| 42.0000000000|            null|         null|  TGFCE|     7|          1|       null|       C_ABLE TRAVEL|       4|         VTS800-ITFS|         VTS800|         R|        IN| 2.0000000000|      INV-2|          N|             N|                null|        T|         null|        null|             N|\n",
      "| 43.0000000000|            null|         null|  TGBUS| 15166|          3|        WDP|WORLDPORT TELECOM...|      71|               TP800|          TP800|         R|      null|         null|       null|       null|          null|                null|        B|         null|        null|             N|\n",
      "| 45.0000000000|            null|         null|  TGBCN| 19983|          7|      CAMEX|TELEFONICA MOVILE...|       1|   VTS-ORIG. TRANSIT|            VTS|         R|      null|         null|       null|       null|          null|                null|        I|         null|        null|             N|\n",
      "| 46.0000000000|            null|         null|  TGBCN| 10437|          2|      TGBUK|VSNL TELECOMMUNIC...|       1|   VTS-ORIG. TRANSIT|            VTS|         R|        IN| 1.0000000000|      INV-1|          N|             N|                null|        I|         null|        null|             N|\n",
      "| 46.0000000000|            null|         null|  TGBCN| 10437|          8|      TGBUK|VSNL TELECOMMUNIC...|       1|   VTS-ORIG. TRANSIT|            VTS|         P|        DR|12.0000000000|  DECL-R-12|          N|             N|                null|        I|         null|        null|             N|\n",
      "| 48.0000000000|            null|         null|  TGBCN| 20236|         12|      BTELE|      BRASIL TELECOM|       5|              USIDDD|         USIDDD|         R|      null|         null|       null|       null|          null|                null|        I|         null|        null|             N|\n",
      "| 51.0000000000|            null|         null|  TGBUS|  1111|          3|        IDC|SOFTBANK TELECOM ...|     123|VTSPREM-VTSMOBILPREM|        VTSPREM|         R|      null|         null|       null|       null|          null|                null|        I|         null|        null|             N|\n",
      "| 52.0000000000|            null|         null|  TGBUS|  2202|          5|      TLMEX|TELEFONOS DE MEXI...|       1|   VTS-ORIG. TRANSIT|            VTS|         P|      null|         null|       null|       null|          null|                null|        B|         null|        null|             N|\n",
      "| 53.0000000000|            null|         null|  TGBCN|  2202|          7|      TLMEX|TELEFONOS DE MEXI...|       1|   VTS-ORIG. TRANSIT|            VTS|         P|        DR| 3.0000000000|   DECL-R-3|          N|             N|                null|        I|         null|        null|             N|\n",
      "| 54.0000000000|            null|         null|  TGBUS| 23063|          2|      GRUPL|GRUPO LEYNET, S.A...|     133|VTSITXC-VTS ECON-PAY|        VTSITXC|         P|        DS| 2.0000000000|   DECL-E-2|          N|             N|                null|        I|         null|        null|             N|\n",
      "| 56.0000000000|            null|         null|  TGBCN| 12822|          4|        OTT|  123 MULTIMEDIA LTD|       1|   VTS-ORIG. TRANSIT|            VTS|         R|        IN| 4.0000000000|      INV-4|          N|             N|                null|        I|         null|        null|             N|\n",
      "| 58.0000000000|            null|         null|  TGBUS| 20149|          4|      USSAF|US SAFAIE ENTREPR...|       1|   VTS-ORIG. TRANSIT|            VTS|         R|        IN| 5.0000000000|      INV-5|          N|             N|                null|        I|         null|        null|             N|\n",
      "| 59.0000000000|            null|         null|  TGBUS| 15172|          1|        TRJ|C_TELECOMUNICACOE...|       1|   VTS-ORIG. TRANSIT|            VTS|         R|        IN| 1.0000000000|      INV-1|          N|             N|                null|        B|         null|        null|             N|\n",
      "| 60.0000000000|            null|         null|  TGBCN|    30|          4|      ALADI|      ALADDIN TRAVEL|       4|         VTS800-ITFS|         VTS800|         R|      null|         null|       null|       null|          null|                null|        B|         null|        null|             N|\n",
      "| 61.0000000000| 8790.0000000000|         null|  TGBCN| 23171|          1|      PBTGR|     BTGERMANYGMBHCO|     222|           ESA - LNS|        ENTLOCA|         R|        IN| 1.0000000000|      INV-1|          Y|             Y|kim.trinh@tatacom...|        B|         null|        null|             N|\n",
      "| 62.0000000000| 8790.0000000000|         null|  TGBCN| 23171|          2|      PBTGR|     BTGERMANYGMBHCO|     223|          ESA - UIFN|        ENTUIFN|         R|        IN| 1.0000000000|      INV-1|          Y|             Y|kim.trinh@tatacom...|        B|         null|        null|             N|\n",
      "| 64.0000000000|            null|         null|  TGBUS|  1634|          2|        ACC|BELL CANADA/ALLST...|       1|   VTS-ORIG. TRANSIT|            VTS|         P|      null|         null|       null|       null|          null|                null|        T|         null|        null|             N|\n",
      "| 65.0000000000|            null|         null|  TGFCE|     7|          8|       null|       C_ABLE TRAVEL|     123|VTSPREM-VTSMOBILPREM|        VTSPREM|         P|      null|         null|       null|       null|          null|                null|        I|         null|        null|             N|\n",
      "| 67.0000000000|            null|         null|  TGBCN|  1634|          2|        ACC|BELL CANADA/ALLST...|      31| GA800-GLOBEACC. 800|          GA800|         R|        IN| 7.0000000000|      INV-7|          N|             N|                null|        T|         null|        null|             N|\n",
      "| 68.0000000000|            null|         null|  TGBCN|    36|         23|      MPTAL|MINISTERE DES POS...|     125|   PS56/64-ISDN INTL|        PS56/64|         R|        IN| 9.0000000000|      INV-9|          N|             N|                null|        T|         null|        null|             N|\n",
      "| 69.0000000000|            null|         null|  TGBUS| 23184|          4|       TKIM|     REGRESSION TEST|     222|           ESA - LNS|        ENTLOCA|         R|      null|         null|       null|       null|          null|                null|        I|         null|        null|             N|\n",
      "| 71.0000000000|            null|         null|  TGBCN| 23173|          1|      PBTFC|FRANCE TELECOM - ...|     223|          ESA - UIFN|        ENTUIFN|         R|        IN| 1.0000000000|      INV-1|          N|             N|                null|        B|         null|        null|             N|\n",
      "| 72.0000000000|            null|         null|  TGBUS| 23183|          2|      PTTES|        TEST COMPANY|     224|          ESA - ITFS|         ENT800|         R|        IN| 1.0000000000|      INV-1|          N|             N|                null|        B|         null|        null|             N|\n",
      "| 72.0000000000|            null|         null|  TGBUS| 23184|          1|       TKIM|     REGRESSION TEST|     223|          ESA - UIFN|        ENTUIFN|         R|      null|         null|       null|       null|          null|                null|        B|         null|        null|             N|\n",
      "| 73.0000000000|            null|         null|  TGFCE|     7|          7|       null|       C_ABLE TRAVEL|      71|               TP800|          TP800|         P|      null|         null|       null|       null|          null|                null|        I|         null|        null|             N|\n",
      "| 74.0000000000|            null|         null|  TGBCN| 23585|          1|      TSWIZ|TATA COMMUNICATIO...|     123|VTSPREM-VTSMOBILPREM|        VTSPREM|         R|        IN| 1.0000000000|      INV-1|          N|             N|                null|        B|         null|        null|             N|\n",
      "| 75.0000000000|            null|         null|  TGBCN| 20009|          3|      IWEBT|GROUPE IWEB TECHN...|       1|   VTS-ORIG. TRANSIT|            VTS|         R|      null|         null|       null|       null|          null|                null|        B|         null|        null|             N|\n",
      "| 76.0000000000|            null|         null|  TGBUS| 24557|          3|      TEELE|TEE LEE TELEHUB P...|     188|       VTS PREFERRED|        VTSPREF|         R|      null|         null|       null|       null|          null|                null|        I|         null|        null|             N|\n",
      "| 77.0000000000|            null|         null|  TGBUK|  1102|          1|       null|              C_CUSO|     188|       VTS PREFERRED|        VTSPREF|         R|        IN| 1.0000000000|      INV-1|          N|             N|                null|        I|         null|        null|             N|\n",
      "| 82.0000000000|            null|         null|  TGBCN|  1632|          3|        FON|BELL CANADA/SPRIN...|      32|  GATEL-VTS-PRIORITY|          GATEL|         R|      null|         null|       null|       null|          null|                null|        T|         null|        null|             N|\n",
      "| 83.0000000000|            null|         null|  TGBUS| 23184|          3|       TKIM|     REGRESSION TEST|     224|          ESA - ITFS|         ENT800|         R|      null|         null|       null|       null|          null|                null|        I|         null|        null|             N|\n",
      "| 84.0000000000|            null|         null|  TGBCN|  1632|          2|        FON|BELL CANADA/SPRIN...|       1|   VTS-ORIG. TRANSIT|            VTS|         R|      null|         null|       null|       null|          null|                null|        T|         null|        null|             N|\n",
      "| 85.0000000000|36104.0000000000|         null|  ENTAM| 18084|          5|      CISCO|  CISCO SYSTEMS INC.|     276|        ENT BULK LNS|        ENTBLNS|         R|        IN| 2.0000000000|      INV-2|          Y|             Y|kim.trinh@tatacom...|        B|         null|        null|             N|\n",
      "| 86.0000000000|            null|         null|  TGBCN|    36|         20|      MPTAL|MINISTERE DES POS...|       1|   VTS-ORIG. TRANSIT|            VTS|         R|        IN| 9.0000000000|      INV-9|          N|             N|                null|        I|         null|        null|             N|\n",
      "| 86.0000000000|            null|         null|  TGBCN|    36|         26|      MPTAL|MINISTERE DES POS...|       1|   VTS-ORIG. TRANSIT|            VTS|         P|      null|         null|       null|       null|          null|                null|        I|         null|        null|             N|\n",
      "| 87.0000000000|            null|         null|  TGBUS|  1635|          1|        CWU|CABLE & WIRELESS ...|       1|   VTS-ORIG. TRANSIT|            VTS|         R|      null|         null|       null|       null|          null|                null|        B|         null|        null|             N|\n",
      "| 89.0000000000|            null|         null|  TGBCN|  1640|          1|       null|C_WIRE ROPE INDUS...|     207|       VTS PREFERRED|        VTSPREF|         R|        IN| 2.0000000000|      INV-2|          N|             N|                null|        T|         null|        null|             N|\n",
      "| 90.0000000000|            null|         null|  TGBCN| 11609|          9|        TMA|   TELSTRA MOBILENET|       1|   VTS-ORIG. TRANSIT|            VTS|         R|      null|         null|       null|       null|          null|                null|        I|         null|        null|             N|\n",
      "| 92.0000000000|            null|         null|  TGBUS| 23184|          2|       TKIM|     REGRESSION TEST|     225|           ESA - NGN|        VTSPREM|         R|      null|         null|       null|       null|          null|                null|        I|         null|        null|             N|\n",
      "| 93.0000000000| 8790.0000000000|         null|  TGBCN| 23171|          3|      PBTGR|     BTGERMANYGMBHCO|     225|           ESA - NGN|        VTSPREM|         R|        IN| 1.0000000000|      INV-1|          Y|             Y|kim.trinh@tatacom...|        B|         null|        null|             N|\n",
      "| 94.0000000000|            null|         null|  TGBCN|     5|          1|       null|          A.M.B.S.Q.|       1|   VTS-ORIG. TRANSIT|            VTS|         R|        IN| 1.0000000000|      INV-1|          N|             N|                null|        B|         null|        null|             N|\n",
      "| 95.0000000000| 8790.0000000000|         null|  TGBCN|  1745|         39|        CTL|CALL-NET CARRIER ...|     277|            BULK LNS|        BULKLNS|         P|        IN| 2.0000000000|      INV-2|          Y|             Y|kaivalya.canay@ta...|        B|         null|        null|             N|\n",
      "| 98.0000000000| 8790.0000000000|         null|  TGBCN| 18620|         14|      TELEV|    TVI CONNECT B.V.|     188|       VTS PREFERRED|        VTSPREF|         R|        IN| 1.0000000000|      INV-1|          N|             N|                null|        I|         null|        null|             N|\n",
      "| 99.0000000000|            null|         null|  TGBUS|    23|          2|       SH23|     TIME TRAVELLERS|       1|   VTS-ORIG. TRANSIT|            VTS|         R|        IN| 1.0000000000|      INV-1|          N|             N|                null|        B|         null|        null|             N|\n",
      "|101.0000000000|            null|         null|  TGFCE| 20173|          2|      FREES|            FREE SAS|       1|   VTS-ORIG. TRANSIT|            VTS|         P|      null|         null|       null|       null|          null|                null|        B|         null|        null|             N|\n",
      "|103.0000000000|            null|         null|  TGBUS| 25646|          2|      USDIC|   U.S. D.I.D. CORP.|     277|            BULK LNS|        BULKLNS|         P|        IN| 2.0000000000|      INV-2|          N|             N|                null|        B|         null|        null|             N|\n",
      "|104.0000000000|            null|         null|  TGBCN| 16817|          5|      DUMMY|DUMMY CARRIER SER...|     277|            BULK LNS|        BULKLNS|         R|        IN| 2.0000000000|      INV-2|          N|             N|                null|        B|         null|        null|             N|\n",
      "|105.0000000000|            null|         null|  TGBCN| 16817|          6|      DUMMY|DUMMY CARRIER SER...|     277|            BULK LNS|        BULKLNS|         P|        IN| 2.0000000000|      INV-2|          N|             N|                null|        B|         null|        null|             N|\n",
      "|106.0000000000|            null|         null|  TGBUS| 23137|          3|      INTEI|   INTELLIGROUP INC.|     277|            BULK LNS|        BULKLNS|         P|      null|         null|       null|       null|          null|                null|        B|         null|        null|             N|\n",
      "|107.0000000000|            null|         null|  TGBUK| 19133|          5|      TRADI|TRADINGCOM EUROPE SA|     188|       VTS PREFERRED|        VTSPREF|         R|      null|         null|       null|       null|          null|                null|        B|         null|        null|             N|\n",
      "|108.0000000000|            null|         null|  TGBUS| 23137|          4|      INTEI|   INTELLIGROUP INC.|     277|            BULK LNS|        BULKLNS|         R|      null|         null|       null|       null|          null|                null|        B|         null|        null|             N|\n",
      "|109.0000000000|            null|         null|  TGBUK| 18704|          3|      TOPCO|      TOP CONNECT OU|     277|            BULK LNS|        BULKLNS|         P|      null|         null|       null|       null|          null|                null|        B|         null|        null|             N|\n",
      "|110.0000000000|            null|         null|  TGBUS| 20117|          2|      ITELS|INTERNATIONAL TEL...|       4|         VTS800-ITFS|         VTS800|         R|      null|         null|       null|       null|          null|                null|        B|         null|        null|             N|\n",
      "|113.0000000000|            null|         null|  TGBUS| 20118|          3|      SIDTE|SIDO TELECOM     ...|     104|               BILAT|          BILAT|         R|      null|         null|       null|       null|          null|                null|        B|         null|        null|             N|\n",
      "|114.0000000000|            null|         null|  TGBCN| 24107|          3|      AUXIB|QUATRRO BUSINESS ...|     276|        ENT BULK LNS|        ENTBLNS|         P|        IN| 1.0000000000|      INV-1|          N|             N|                null|        B|         null|        null|             N|\n",
      "|116.0000000000|            null|         null|  TGBCN| 24107|          4|      AUXIB|QUATRRO BUSINESS ...|     276|        ENT BULK LNS|        ENTBLNS|         R|        IN| 1.0000000000|      INV-1|          N|             N|                null|        B|         null|        null|             N|\n",
      "|117.0000000000|            null|         null|  TGBUS| 25646|          3|      USDIC|   U.S. D.I.D. CORP.|     277|            BULK LNS|        BULKLNS|         R|        IN| 2.0000000000|      INV-2|          N|             N|                null|        B|         null|        null|             N|\n",
      "|118.0000000000| 8790.0000000000|         null|  INTUK| 23126|          2|      TRTLE|   TRANS TELECOM EAD|     123|VTSPREM-VTSMOBILPREM|        VTSPREM|         R|        IN| 1.0000000000|      INV-1|          N|             N|                null|        I|         null|        null|             N|\n",
      "|119.0000000000| 8790.0000000000|         null|  ENTAM| 24907|          4|      GINTE|INTELENET GLOBAL ...|     276|        ENT BULK LNS|        ENTBLNS|         R|        IN| 2.0000000000|      INV-2|          Y|             Y|kim.trinh@tatacom...|        B|         null|        null|             N|\n",
      "|120.0000000000|            null|         null|  TGBCN| 20760|          1|      TECOR|    TELECORP LIMITED|     146|Local Number Service|         LOCALA|         R|      null|         null|       null|       null|          null|                null|        B|         null|        null|             N|\n",
      "|123.0000000000|            null|         null|  TGBCN|  2202|          8|      TLMEX|TELEFONOS DE MEXI...|      21|           CABLE O&M|        CABLO&M|         R|        IN| 1.0000000000|      INV-1|          N|             N|                null|        T|         null|        null|             N|\n",
      "|123.0000000000|            null|         null|  TGBUS|  2202|          3|      TLMEX|TELEFONOS DE MEXI...|      70|        TP-TELEPHONE|             TP|         P|      null|         null|       null|       null|          null|                null|        T|         null|        null|             N|\n",
      "|124.0000000000|            null|         null|  TGBUK| 21241|          3|       VUBS| VSNL ENTERPRISE/UBS|       1|   VTS-ORIG. TRANSIT|            VTS|         R|      null|         null|       null|       null|          null|                null|        B|         null|        null|             N|\n",
      "|127.0000000000|            null|         null|  TGFCE|     7|          3|       null|       C_ABLE TRAVEL|     148|   VTS Mobile Direct|          VTSMD|         R|      null|         null|       null|       null|          null|                null|        I|         null|        null|             N|\n",
      "|129.0000000000|            null|         null|  TGBUS|   690|          1|      NCTLS|ENITEL-EMPRESA NI...|      70|        TP-TELEPHONE|             TP|         P|      null|         null|       null|       null|          null|                null|        T|         null|        null|             N|\n",
      "|130.0000000000|            null|         null|  TGBUS| 21434|          4|      BACKB|BACKBONE COMMUNIC...|       1|   VTS-ORIG. TRANSIT|            VTS|         P|        DR| 1.0000000000|   DECL-R-1|          N|             N|                null|        I|         null|        null|             N|\n",
      "|131.0000000000|            null|         null|  TGBCN|  2202|          1|      TLMEX|TELEFONOS DE MEXI...|       1|   VTS-ORIG. TRANSIT|            VTS|         R|      null|         null|       null|       null|          null|                null|        B|         null|        null|             N|\n",
      "|131.0000000000|            null|         null|  TGBUS|  2202|          4|      TLMEX|TELEFONOS DE MEXI...|     104|               BILAT|          BILAT|         P|        DS| 3.0000000000|   DECL-E-3|          N|             N|                null|        T|         null|        null|             N|\n",
      "|132.0000000000|            null|         null|  TGBCN| 19140|          2|      GTGRT|GT-GROUP TELECOM ...|     188|       VTS PREFERRED|        VTSPREF|         R|      null|         null|       null|       null|          null|                null|        B|         null|        null|             N|\n",
      "|134.0000000000|            null|         null|  TGBCN| 10432|         10|      FONUS|CALL-NET CARRIER ...|       7|             UIFNINT|        UIFNINT|         R|        IN| 3.0000000000|      INV-3|          N|             N|                null|        I|         null|        null|             N|\n",
      "|135.0000000000|            null|         null|  TGBCN| 19190|          3|      INTNA|INTERNATIONAL TEL...|       1|   VTS-ORIG. TRANSIT|            VTS|         R|      null|         null|       null|       null|          null|                null|        I|         null|        null|             N|\n",
      "|137.0000000000| 8790.0000000000|         null|  TGBUK| 21740|          5|      WOWIG|     WORLDWIDE GROUP|     277|            BULK LNS|        BULKLNS|         R|        IN| 1.0000000000|      INV-1|          Y|             Y|kim.trinh@tatacom...|        B|         null|        null|             N|\n",
      "|139.0000000000|            null|         null|  TGBCN| 14670|          2|        CTK|         CANTALK USA|       1|   VTS-ORIG. TRANSIT|            VTS|         R|        IN| 1.0000000000|      INV-1|          N|             N|                null|        B|         null|        null|             N|\n",
      "|142.0000000000|            null|         null|  TGBUS| 18704|         13|      TOPCO|      TOP CONNECT OU|     277|            BULK LNS|        BULKLNS|         R|        IN| 1.0000000000|      INV-1|          N|             N|                null|        B|         null|        null|             N|\n",
      "|143.0000000000|            null|         null|  TGBCN| 19423|          2|      ALCOM|         ALGERIE COM|     188|       VTS PREFERRED|        VTSPREF|         R|      null|         null|       null|       null|          null|                null|        B|         null|        null|             N|\n",
      "|145.0000000000|            null|         null|  TGBUS|  6167|          2|      FROTG|FRONTIER TECHNOLO...|     207|       VTS PREFERRED|        VTSPREF|         R|        DR| 2.0000000000|   DECL-R-2|          N|             N|                null|        B|         null|        null|             N|\n",
      "|148.0000000000|            null|         null|  TGBUS| 19434|          4|      BHAFO|  BHARTI AIRTEL LTD.|     188|       VTS PREFERRED|        VTSPREF|         R|      null|         null|       null|       null|          null|                null|        B|         null|        null|             N|\n",
      "|149.0000000000|            null|         null|  TGBUS| 28391|          1|      GRENB|LA GRENOUILLE ET ...|     277|            BULK LNS|        BULKLNS|         R|        IN| 1.0000000000|      INV-1|          N|             N|                null|        B|         null|        null|             N|\n",
      "|150.0000000000|            null|         null|  TGBCN|    53|          6|       null|   C_ITALIAN EMBASSY|       1|   VTS-ORIG. TRANSIT|            VTS|         R|      null|         null|       null|       null|          null|                null|        B|         null|        null|             N|\n",
      "|150.0000000000|            null|         null|  TGBUS|    67|          8|      CWANT|CABLE & WIRELESS ...|      70|        TP-TELEPHONE|             TP|         P|      null|         null|       null|       null|          null|                null|        B|         null|        null|             N|\n",
      "|151.0000000000|            null|         null|  ENTAM| 24103|          4|      RINEU|QUATRRO BPO SOLUT...|     222|           ESA - LNS|        ENTLOCA|         R|        IN| 3.0000000000|      INV-3|          N|             N|                null|        B|         null|        null|             N|\n",
      "|152.0000000000| 8790.0000000000|         null|  ENTAM| 24103|          5|      RINEU|QUATRRO BPO SOLUT...|     224|          ESA - ITFS|         ENT800|         R|        IN| 6.0000000000|      INV-6|          N|             Y|kim.trinh@tatacom...|        B|         null|        null|             N|\n",
      "|152.0000000000|            null|         null|  ENTAM| 24103|          5|      RINEU|QUATRRO BPO SOLUT...|     224|          ESA - ITFS|         ENT800|         R|        IN| 3.0000000000|      INV-3|          N|             N|                null|        B|         null|        null|             N|\n",
      "|153.0000000000| 8790.0000000000|         null|  ENTAM| 24103|          6|      RINEU|QUATRRO BPO SOLUT...|     226|           ESA - ILD|         ENTVTS|         R|        IN| 6.0000000000|      INV-6|          N|             Y|kim.trinh@tatacom...|        B|         null|        null|             N|\n",
      "|153.0000000000|            null|         null|  ENTAM| 24103|          6|      RINEU|QUATRRO BPO SOLUT...|     226|           ESA - ILD|         ENTVTS|         R|        IN| 3.0000000000|      INV-3|          N|             N|                null|        B|         null|        null|             N|\n",
      "|154.0000000000|            null|         null|  TGBUS| 24829|          2|      DAUSA|DIGITAL ACCESS US...|       1|   VTS-ORIG. TRANSIT|            VTS|         R|      null|         null|       null|       null|          null|                null|        B|         null|        null|             N|\n",
      "+--------------+----------------+-------------+-------+------+-----------+-----------+--------------------+--------+--------------------+---------------+----------+----------+-------------+-----------+-----------+--------------+--------------------+---------+-------------+------------+--------------+\n",
      "only showing top 100 rows\n",
      "\n"
     ]
    }
   ],
   "source": [
    "df.show(100)"
   ]
  },
  {
   "cell_type": "markdown",
   "metadata": {},
   "source": [
    "# Using Query"
   ]
  },
  {
   "cell_type": "markdown",
   "metadata": {},
   "source": [
    "# Partition column\n"
   ]
  },
  {
   "cell_type": "code",
   "execution_count": 2,
   "metadata": {},
   "outputs": [],
   "source": [
    "parititioned_data=spark.read.format(\"jdbc\")\\\n",
    " .option(\"url\", \"jdbc:oracle:thin:@camttpddb004a:1527/opstst\") \\\n",
    " .option(\"dbtable\", \"ci.secs_mapping\") \\\n",
    " .option(\"user\", \"api_user\") \\\n",
    " .option(\"password\", \"api_user\") \\\n",
    " .option(\"driver\", \"oracle.jdbc.driver.OracleDriver\") \\\n",
    " .option(\"partitionColumn\",\"cms_cust_id\")\\\n",
    " .option(\"lowerBound\", 1)\\\n",
    " .option(\"upperBound\", 100000)\\\n",
    " .option(\"numPartitions\",40).load()"
   ]
  },
  {
   "cell_type": "code",
   "execution_count": 3,
   "metadata": {},
   "outputs": [
    {
     "name": "stdout",
     "output_type": "stream",
     "text": [
      "+-------------+----------------+-------------+-------+------+-----------+-----------+--------------------+--------+--------------------+---------------+----------+----------+-------------+-----------+-----------+--------------+----------------+---------+-------------+------------+--------------+\n",
      "|  CMS_CUST_ID|PRIM_CMS_CUST_ID|INTEC_CUST_ID|CPNY_ID|ORG_NO|OPTN_REL_NO|ORG_ABBR_CD|        ORG_LEGAL_NM|PRDCT_NO|    PRDCT_SHORT_DESC|SERV_ABBR_CTRCT|INCOM_TYPE|PRFIL_TYPE| PRFIL_REL_NO|AR_LOCATION|RAPIDCDR_FL|INVCE_EMAIL_FL|INVCE_EMAIL_ADDR|NTWRK_IND|MASTR_CPNY_ID|PRTNR_ORG_NO|DIRCT_AGRMT_FL|\n",
      "+-------------+----------------+-------------+-------+------+-----------+-----------+--------------------+--------+--------------------+---------------+----------+----------+-------------+-----------+-----------+--------------+----------------+---------+-------------+------------+--------------+\n",
      "| 2.0000000000|            null|         null|  TGBUS| 13727|          9|        IIX|ITXC DATA TRANSPO...|     132|VTSITXC-VTS ECON-REC|        VTSITXC|         R|        IN| 2.0000000000|      INV-2|          N|             N|            null|        I|         null|        null|             N|\n",
      "| 2.0000000000|            null|         null|  TGBUS| 13727|         10|        IIX|ITXC DATA TRANSPO...|     133|VTSITXC-VTS ECON-PAY|        VTSITXC|         P|        DR| 3.0000000000|   DECL-R-3|          N|             N|            null|        I|         null|        null|             N|\n",
      "|30.0000000000|            null|         null|  TGBUS|  6367|          3|      PT1CO| PT-1 COMMUNICATIONS|      70|        TP-TELEPHONE|             TP|         P|      null|         null|       null|       null|          null|            null|        I|         null|        null|             N|\n",
      "|31.0000000000|            null|         null|  TGBUS|   735|          6|      ENTPR|TELEFONICA DEL PE...|     179|   VTSSL1 TERMINATOR|         VTSSL1|         P|      null|         null|       null|       null|          null|            null|        I|         null|        null|             N|\n",
      "|32.0000000000|            null|         null|  TGBUS|    43|          2|        FZG| DEUTSCHE TELEKOM AG|     123|VTSPREM-VTSMOBILPREM|        VTSPREM|         R|        IN| 2.0000000000|      INV-2|          N|             N|            null|        B|         null|        null|             N|\n",
      "|33.0000000000|            null|         null|  TGBUK|    20|          1|      PGSAF|TELKOM SOUTH AFRI...|       1|   VTS-ORIG. TRANSIT|            VTS|         R|      null|         null|       null|       null|          null|            null|        I|         null|        null|             N|\n",
      "|34.0000000000|            null|         null|  TGBCN| 18271|          3|      GENET|GENESIS TELECOMMU...|       1|   VTS-ORIG. TRANSIT|            VTS|         R|        IN| 3.0000000000|      INV-3|          N|             N|            null|        T|         null|        null|             N|\n",
      "|35.0000000000|            null|         null|  TGBCN|     7|          1|       null|       C_ABLE TRAVEL|     104|               BILAT|          BILAT|         R|      null|         null|       null|       null|          null|            null|        B|         null|        null|             N|\n",
      "|35.0000000000|            null|         null|  TGBCN|     7|          4|       null|       C_ABLE TRAVEL|     135|VTSSL1 - VTS Economy|         VTSSL1|         P|      null|         null|       null|       null|          null|            null|        I|         null|        null|             N|\n",
      "|36.0000000000|            null|         null|  TGBCN|     7|          6|       null|       C_ABLE TRAVEL|     123|VTSPREM-VTSMOBILPREM|        VTSPREM|         R|        IN| 1.0000000000|      INV-1|          N|             N|            null|        I|         null|        null|             N|\n",
      "|37.0000000000|            null|         null|  TGHOL| 19984|          3|      LUNAB|           LUNA B.V.|       4|         VTS800-ITFS|         VTS800|         R|      null|         null|       null|       null|          null|            null|        B|         null|        null|             N|\n",
      "|38.0000000000|            null|         null|  TGBCN| 11585|          8|        RCD|C_RSL COM DEUTSCH...|       1|   VTS-ORIG. TRANSIT|            VTS|         R|        IN| 1.0000000000|      INV-1|          N|             N|            null|        I|         null|        null|             N|\n",
      "|40.0000000000|            null|         null|  TGBCN| 23151|          2|       null|           TEST KIM2|       1|   VTS-ORIG. TRANSIT|            VTS|         R|      null|         null|       null|       null|          null|            null|        I|         null|        null|             N|\n",
      "|41.0000000000|            null|         null|  TGBUS|   253|          3|      ENTCO|TELECOM COLOMBIA-...|       1|   VTS-ORIG. TRANSIT|            VTS|         R|      null|         null|       null|       null|          null|            null|        B|         null|        null|             N|\n",
      "|42.0000000000|            null|         null|  TGFCE|     7|          1|       null|       C_ABLE TRAVEL|       4|         VTS800-ITFS|         VTS800|         R|        IN| 2.0000000000|      INV-2|          N|             N|            null|        T|         null|        null|             N|\n",
      "|43.0000000000|            null|         null|  TGBUS| 15166|          3|        WDP|WORLDPORT TELECOM...|      71|               TP800|          TP800|         R|      null|         null|       null|       null|          null|            null|        B|         null|        null|             N|\n",
      "|45.0000000000|            null|         null|  TGBCN| 19983|          7|      CAMEX|TELEFONICA MOVILE...|       1|   VTS-ORIG. TRANSIT|            VTS|         R|      null|         null|       null|       null|          null|            null|        I|         null|        null|             N|\n",
      "|46.0000000000|            null|         null|  TGBCN| 10437|          2|      TGBUK|VSNL TELECOMMUNIC...|       1|   VTS-ORIG. TRANSIT|            VTS|         R|        IN| 1.0000000000|      INV-1|          N|             N|            null|        I|         null|        null|             N|\n",
      "|46.0000000000|            null|         null|  TGBCN| 10437|          8|      TGBUK|VSNL TELECOMMUNIC...|       1|   VTS-ORIG. TRANSIT|            VTS|         P|        DR|12.0000000000|  DECL-R-12|          N|             N|            null|        I|         null|        null|             N|\n",
      "|48.0000000000|            null|         null|  TGBCN| 20236|         12|      BTELE|      BRASIL TELECOM|       5|              USIDDD|         USIDDD|         R|      null|         null|       null|       null|          null|            null|        I|         null|        null|             N|\n",
      "+-------------+----------------+-------------+-------+------+-----------+-----------+--------------------+--------+--------------------+---------------+----------+----------+-------------+-----------+-----------+--------------+----------------+---------+-------------+------------+--------------+\n",
      "only showing top 20 rows\n",
      "\n"
     ]
    }
   ],
   "source": [
    "parititioned_data.show()"
   ]
  }
 ],
 "metadata": {
  "interpreter": {
   "hash": "9545096d6a52d4b34adce3167e4787f469b0299861bb959c27dd86fc7feca162"
  },
  "kernelspec": {
   "display_name": "Python 3 (ipykernel)",
   "language": "python",
   "name": "python3"
  },
  "language_info": {
   "codemirror_mode": {
    "name": "ipython",
    "version": 3
   },
   "file_extension": ".py",
   "mimetype": "text/x-python",
   "name": "python",
   "nbconvert_exporter": "python",
   "pygments_lexer": "ipython3",
   "version": "3.9.7"
  }
 },
 "nbformat": 4,
 "nbformat_minor": 2
}
