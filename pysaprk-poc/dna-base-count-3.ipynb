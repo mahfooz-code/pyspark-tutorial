{
 "cells": [
  {
   "cell_type": "markdown",
   "metadata": {},
   "source": [
    "# DNA PROBLEM\n",
    "The high-level solution is presented in thress simple steps:\n",
    "\n",
    "1) I just show only 4 records (2 FASTA sequences) for a partition, but in reality, each partition may contain thousands or millions of records. If total of all your input is N records and P is the number of partitions, then each partition will have about (N / P) records.\n",
    "\n",
    "2) If we have enough resources in our Spark cluster, then each partition can be processed in parallel and independently\n",
    "\n",
    "3) If you have a lot of data, but your requirement is to extract small amount of information from all data, then mapPartitions() might be good choice and will out perform map() and flatMap() transformations."
   ]
  },
  {
   "cell_type": "markdown",
   "metadata": {},
   "source": [
    "# Step 1: Create an RDD of String from Input"
   ]
  },
  {
   "cell_type": "code",
   "execution_count": 7,
   "metadata": {},
   "outputs": [],
   "source": [
    "from pyspark.sql import SparkSession\n",
    "\n",
    "spark= SparkSession.builder \\\n",
    "    .appName(\"dna-base-rdd\")    \\\n",
    "    .master(\"local\")    \\\n",
    "    .getOrCreate()\n",
    "\n",
    "\n",
    "input_path = \"C:/Users/malam/development/data/spark/sample.fasta\"\n",
    "records_rdd = spark.sparkContext.textFile(input_path)"
   ]
  },
  {
   "cell_type": "code",
   "execution_count": 8,
   "metadata": {},
   "outputs": [
    {
     "data": {
      "text/plain": [
       "['>seq1',\n",
       " 'cGTAaccaataaaaaaacaagcttaacctaattc',\n",
       " '>seq2',\n",
       " 'agcttagTTTGGatctggccgggg',\n",
       " '>seq3',\n",
       " 'gcggatttactcCCCCCAAAAANNaggggagagcccagataaatggagtctgtgcgtccaca',\n",
       " 'gaattcgcacca',\n",
       " 'AATAAAACCTCACCCAT',\n",
       " 'agagcccagaatttactcCCC',\n",
       " '>seq4',\n",
       " 'gcggatttactcaggggagagcccagGGataaatggagtctgtgcgtccaca',\n",
       " 'gaattcgcacca']"
      ]
     },
     "execution_count": 8,
     "metadata": {},
     "output_type": "execute_result"
    }
   ],
   "source": [
    "records_rdd.collect()   "
   ]
  },
  {
   "cell_type": "markdown",
   "metadata": {},
   "source": [
    "# Step 2: Define a Mapper Function"
   ]
  },
  {
   "cell_type": "code",
   "execution_count": 9,
   "metadata": {},
   "outputs": [],
   "source": [
    "from collections import defaultdict\n",
    "\n",
    "def process_FASTA_partition(iterator):\n",
    "    hashmap = defaultdict(int)\n",
    "\n",
    "    for fasta_record in iterator:\n",
    "        if (fasta_record.startswith(\">\")):\n",
    "            hashmap[\"z\"] += 1\n",
    "        else:\n",
    "            chars = fasta_record.lower()\n",
    "            for c in chars:\n",
    "                hashmap[c] += 1\n",
    "    #end-for\n",
    "\n",
    "    print(\"hashmap=\", hashmap)\n",
    "    key_value_list = [(k, v) for k, v in hashmap.items()]\n",
    "    print(\"key_value_list=\", key_value_list)\n",
    "    return  key_value_list\n",
    "\n",
    "def debug_partition(iterator):\n",
    "    print(\"type(iterator)=\", type(iterator))\n",
    "    print(\"begin partition ===\")\n",
    "    elements = []\n",
    "    for x in iterator:\n",
    "        elements.append(x)\n",
    "    print(\"elements=\", elements)\n",
    "    print(\"end partition ===\")"
   ]
  },
  {
   "cell_type": "code",
   "execution_count": 11,
   "metadata": {},
   "outputs": [
    {
     "name": "stdout",
     "output_type": "stream",
     "text": [
      "1\n"
     ]
    }
   ],
   "source": [
    "print(records_rdd.getNumPartitions())\n",
    "pairs_rdd = records_rdd.mapPartitions(process_FASTA_partition)"
   ]
  },
  {
   "cell_type": "markdown",
   "metadata": {},
   "source": [
    "# Step 3: Find Frequencies of DNA Letters"
   ]
  },
  {
   "cell_type": "code",
   "execution_count": 12,
   "metadata": {},
   "outputs": [
    {
     "data": {
      "text/plain": [
       "[('z', 4), ('c', 61), ('g', 53), ('t', 45), ('a', 73), ('n', 2)]"
      ]
     },
     "execution_count": 12,
     "metadata": {},
     "output_type": "execute_result"
    }
   ],
   "source": [
    "frequencies_rdd = pairs_rdd.reduceByKey(lambda x, y: x+y)\n",
    "frequencies_rdd.collect()"
   ]
  },
  {
   "cell_type": "code",
   "execution_count": 14,
   "metadata": {},
   "outputs": [
    {
     "data": {
      "text/plain": [
       "[('z', 4), ('c', 61), ('g', 53), ('t', 45), ('a', 73), ('n', 2)]"
      ]
     },
     "execution_count": 14,
     "metadata": {},
     "output_type": "execute_result"
    }
   ],
   "source": [
    "frequencies_rdd.collect()"
   ]
  },
  {
   "cell_type": "code",
   "execution_count": 15,
   "metadata": {},
   "outputs": [
    {
     "data": {
      "text/plain": [
       "{'z': 4, 'c': 61, 'g': 53, 't': 45, 'a': 73, 'n': 2}"
      ]
     },
     "execution_count": 15,
     "metadata": {},
     "output_type": "execute_result"
    }
   ],
   "source": [
    "frequencies_rdd.collectAsMap()"
   ]
  },
  {
   "cell_type": "markdown",
   "metadata": {},
   "source": [
    "Pros:\n",
    "\n",
    "The provided solution works, simple, and semi-efficient. This solution improves on Version 1, by emitting much less (key, value) pairs, since we create a dictionary per input record and then flatten it into a list of (key, value) pairs, where key is a DNA-letter and value is an associated aggregated frequency of the DNA-letter.\n",
    "\n",
    "Network traffic is improved by emitting much fewer (key, value) pairs.\n",
    "\n",
    "There is no scalability issue since we use reduceByKey() for reducing all (key, value) pairs\n",
    "\n",
    "Cons:\n",
    "\n",
    "For each DNA sequence, this solution emits up to 6 (key, value) pairs, where key is a DNA-letter and value is sum of associated frequencies. This is a much improvement over solution version 1\n",
    "\n",
    "Performance is not an optimal since we are still emitting about 6 (key, value) pairs per DNA string\n",
    "\n",
    "This solution might be using too much memory due to creation of a dictionary per DNA sequence"
   ]
  }
 ],
 "metadata": {
  "interpreter": {
   "hash": "9545096d6a52d4b34adce3167e4787f469b0299861bb959c27dd86fc7feca162"
  },
  "kernelspec": {
   "display_name": "Python 3.9.7 64-bit ('pyspark': conda)",
   "language": "python",
   "name": "python3"
  },
  "language_info": {
   "codemirror_mode": {
    "name": "ipython",
    "version": 3
   },
   "file_extension": ".py",
   "mimetype": "text/x-python",
   "name": "python",
   "nbconvert_exporter": "python",
   "pygments_lexer": "ipython3",
   "version": "3.9.7"
  },
  "orig_nbformat": 4
 },
 "nbformat": 4,
 "nbformat_minor": 2
}
